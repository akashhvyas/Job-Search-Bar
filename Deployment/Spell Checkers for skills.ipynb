{
 "cells": [
  {
   "cell_type": "code",
   "execution_count": 1,
   "metadata": {},
   "outputs": [],
   "source": [
    "import pandas as pd\n",
    "from spellchecker import SpellChecker"
   ]
  },
  {
   "cell_type": "code",
   "execution_count": 2,
   "metadata": {},
   "outputs": [],
   "source": [
    "df = pd.read_csv(\"finalcleandata.csv\")"
   ]
  },
  {
   "cell_type": "code",
   "execution_count": 3,
   "metadata": {
    "scrolled": false
   },
   "outputs": [
    {
     "data": {
      "text/html": [
       "<div>\n",
       "<style scoped>\n",
       "    .dataframe tbody tr th:only-of-type {\n",
       "        vertical-align: middle;\n",
       "    }\n",
       "\n",
       "    .dataframe tbody tr th {\n",
       "        vertical-align: top;\n",
       "    }\n",
       "\n",
       "    .dataframe thead th {\n",
       "        text-align: right;\n",
       "    }\n",
       "</style>\n",
       "<table border=\"1\" class=\"dataframe\">\n",
       "  <thead>\n",
       "    <tr style=\"text-align: right;\">\n",
       "      <th></th>\n",
       "      <th>Company</th>\n",
       "      <th>Designation</th>\n",
       "      <th>Locations</th>\n",
       "      <th>Established Year</th>\n",
       "      <th>Employees Count</th>\n",
       "      <th>Link</th>\n",
       "      <th>HR_Name</th>\n",
       "      <th>Experience</th>\n",
       "      <th>Followers</th>\n",
       "      <th>Skills1</th>\n",
       "      <th>Skills2</th>\n",
       "      <th>Skills3</th>\n",
       "      <th>Skills4</th>\n",
       "      <th>Skills5</th>\n",
       "      <th>Skills6</th>\n",
       "      <th>Skills7</th>\n",
       "      <th>Cluster</th>\n",
       "      <th>Experience Category</th>\n",
       "    </tr>\n",
       "  </thead>\n",
       "  <tbody>\n",
       "    <tr>\n",
       "      <th>0</th>\n",
       "      <td>EagleView</td>\n",
       "      <td>Senior Financial Accountant</td>\n",
       "      <td>Work From Home</td>\n",
       "      <td>2008</td>\n",
       "      <td>0 - 10 employees</td>\n",
       "      <td>https://www.instahyre.com/job-248006-senior-fi...</td>\n",
       "      <td>Kavya Iyer</td>\n",
       "      <td>3-6 Years</td>\n",
       "      <td>30000</td>\n",
       "      <td>Accounting</td>\n",
       "      <td>Auditing</td>\n",
       "      <td>Chartered</td>\n",
       "      <td>Accountant</td>\n",
       "      <td>NaN</td>\n",
       "      <td>NaN</td>\n",
       "      <td>NaN</td>\n",
       "      <td>Class2</td>\n",
       "      <td>Junior Level</td>\n",
       "    </tr>\n",
       "    <tr>\n",
       "      <th>1</th>\n",
       "      <td>LTIMindtree</td>\n",
       "      <td>Fullstack Developer</td>\n",
       "      <td>Bangalore</td>\n",
       "      <td>1996</td>\n",
       "      <td>More than 1000 employees</td>\n",
       "      <td>https://www.instahyre.com/job-249199-fullstack...</td>\n",
       "      <td>Akshata</td>\n",
       "      <td>4-6 Years</td>\n",
       "      <td>452194</td>\n",
       "      <td>Angular</td>\n",
       "      <td>Java</td>\n",
       "      <td>Microservices</td>\n",
       "      <td>Spring</td>\n",
       "      <td>Boot</td>\n",
       "      <td>NaN</td>\n",
       "      <td>NaN</td>\n",
       "      <td>Class1</td>\n",
       "      <td>Mid-Level</td>\n",
       "    </tr>\n",
       "    <tr>\n",
       "      <th>2</th>\n",
       "      <td>mPokket</td>\n",
       "      <td>Performance Marketing</td>\n",
       "      <td>Bangalore</td>\n",
       "      <td>2016</td>\n",
       "      <td>More than 1000 employees</td>\n",
       "      <td>https://www.instahyre.com/job-248784-performan...</td>\n",
       "      <td>Aikya Chakraborty</td>\n",
       "      <td>4-8 Years</td>\n",
       "      <td>22000</td>\n",
       "      <td>Content</td>\n",
       "      <td>Marketing</td>\n",
       "      <td>Digital</td>\n",
       "      <td>Marketing</td>\n",
       "      <td>Facebook</td>\n",
       "      <td>Marketing</td>\n",
       "      <td>NaN</td>\n",
       "      <td>Class1</td>\n",
       "      <td>Mid-Level</td>\n",
       "    </tr>\n",
       "    <tr>\n",
       "      <th>3</th>\n",
       "      <td>Open Financial Technologies</td>\n",
       "      <td>Zonal Head Sales</td>\n",
       "      <td>Chennai</td>\n",
       "      <td>2017</td>\n",
       "      <td>200 - 500 employees</td>\n",
       "      <td>https://www.instahyre.com/job-248018-zonal-hea...</td>\n",
       "      <td>Libin O K</td>\n",
       "      <td>6-10 Years</td>\n",
       "      <td>35000</td>\n",
       "      <td>Channel</td>\n",
       "      <td>Sales</td>\n",
       "      <td>Payment</td>\n",
       "      <td>Processing</td>\n",
       "      <td>Revenue</td>\n",
       "      <td>Management</td>\n",
       "      <td>NaN</td>\n",
       "      <td>Class2</td>\n",
       "      <td>Mid-Level</td>\n",
       "    </tr>\n",
       "    <tr>\n",
       "      <th>4</th>\n",
       "      <td>Piramal Capital &amp; Housing Finance</td>\n",
       "      <td>DPM 1</td>\n",
       "      <td>Bangalore</td>\n",
       "      <td>2017</td>\n",
       "      <td>10 - 50 employees</td>\n",
       "      <td>https://www.instahyre.com/job-248890-dpm-1-at-...</td>\n",
       "      <td>Hr</td>\n",
       "      <td>1-3 Years</td>\n",
       "      <td>138000</td>\n",
       "      <td>Product</td>\n",
       "      <td>Management</td>\n",
       "      <td>NaN</td>\n",
       "      <td>NaN</td>\n",
       "      <td>NaN</td>\n",
       "      <td>NaN</td>\n",
       "      <td>NaN</td>\n",
       "      <td>Class2</td>\n",
       "      <td>Junior Level</td>\n",
       "    </tr>\n",
       "  </tbody>\n",
       "</table>\n",
       "</div>"
      ],
      "text/plain": [
       "                             Company                   Designation  \\\n",
       "0                          EagleView  Senior Financial Accountant    \n",
       "1                        LTIMindtree           Fullstack Developer   \n",
       "2                            mPokket        Performance Marketing    \n",
       "3        Open Financial Technologies             Zonal Head Sales    \n",
       "4  Piramal Capital & Housing Finance                        DPM 1    \n",
       "\n",
       "        Locations  Established Year           Employees Count  \\\n",
       "0  Work From Home              2008          0 - 10 employees   \n",
       "1       Bangalore              1996  More than 1000 employees   \n",
       "2       Bangalore              2016  More than 1000 employees   \n",
       "3         Chennai              2017       200 - 500 employees   \n",
       "4       Bangalore              2017         10 - 50 employees   \n",
       "\n",
       "                                                Link            HR_Name  \\\n",
       "0  https://www.instahyre.com/job-248006-senior-fi...         Kavya Iyer   \n",
       "1  https://www.instahyre.com/job-249199-fullstack...            Akshata   \n",
       "2  https://www.instahyre.com/job-248784-performan...  Aikya Chakraborty   \n",
       "3  https://www.instahyre.com/job-248018-zonal-hea...          Libin O K   \n",
       "4  https://www.instahyre.com/job-248890-dpm-1-at-...                 Hr   \n",
       "\n",
       "   Experience  Followers     Skills1     Skills2        Skills3     Skills4  \\\n",
       "0   3-6 Years      30000  Accounting    Auditing      Chartered  Accountant   \n",
       "1   4-6 Years     452194     Angular        Java  Microservices      Spring   \n",
       "2   4-8 Years      22000     Content   Marketing        Digital   Marketing   \n",
       "3  6-10 Years      35000     Channel       Sales        Payment  Processing   \n",
       "4   1-3 Years     138000     Product  Management            NaN         NaN   \n",
       "\n",
       "    Skills5     Skills6 Skills7 Cluster Experience Category  \n",
       "0       NaN         NaN     NaN  Class2        Junior Level  \n",
       "1      Boot         NaN     NaN  Class1           Mid-Level  \n",
       "2  Facebook   Marketing     NaN  Class1           Mid-Level  \n",
       "3   Revenue  Management     NaN  Class2           Mid-Level  \n",
       "4       NaN         NaN     NaN  Class2        Junior Level  "
      ]
     },
     "execution_count": 3,
     "metadata": {},
     "output_type": "execute_result"
    }
   ],
   "source": [
    "df.head()"
   ]
  },
  {
   "cell_type": "code",
   "execution_count": 10,
   "metadata": {},
   "outputs": [],
   "source": [
    "loc = df['Locations'].mode()[0]"
   ]
  },
  {
   "cell_type": "code",
   "execution_count": 11,
   "metadata": {},
   "outputs": [
    {
     "name": "stdout",
     "output_type": "stream",
     "text": [
      "Bangalore\n"
     ]
    }
   ],
   "source": [
    "print(loc)"
   ]
  },
  {
   "cell_type": "code",
   "execution_count": 5,
   "metadata": {},
   "outputs": [],
   "source": [
    "demo = df['Skills1'].str.lower()"
   ]
  },
  {
   "cell_type": "code",
   "execution_count": 6,
   "metadata": {},
   "outputs": [
    {
     "data": {
      "text/plain": [
       "0       accounting\n",
       "1          angular\n",
       "2          content\n",
       "3          channel\n",
       "4          product\n",
       "           ...    \n",
       "2420         build\n",
       "2421         linux\n",
       "2422        devops\n",
       "2423           css\n",
       "2424      business\n",
       "Name: Skills1, Length: 2425, dtype: object"
      ]
     },
     "execution_count": 6,
     "metadata": {},
     "output_type": "execute_result"
    }
   ],
   "source": [
    "demo"
   ]
  },
  {
   "cell_type": "code",
   "execution_count": 4,
   "metadata": {
    "scrolled": true
   },
   "outputs": [
    {
     "data": {
      "text/plain": [
       "Junior Level    774\n",
       "Mid-Level       712\n",
       "Fresher         497\n",
       "Senior Level    442\n",
       "Name: Experience Category, dtype: int64"
      ]
     },
     "execution_count": 4,
     "metadata": {},
     "output_type": "execute_result"
    }
   ],
   "source": [
    "df['Experience Category'].value_counts()"
   ]
  },
  {
   "cell_type": "code",
   "execution_count": 12,
   "metadata": {
    "scrolled": true
   },
   "outputs": [
    {
     "data": {
      "text/plain": [
       "Bangalore                     1266\n",
       "Work From Home                 221\n",
       "Gurgaon                        203\n",
       "Mumbai                         148\n",
       "Hyderabad                      139\n",
       "Noida                           93\n",
       "Chennai                         87\n",
       "Pune                            86\n",
       "Delhi                           66\n",
       "Ahmedabad                       22\n",
       "Jaipur                          17\n",
       "Navi Mumbai                     11\n",
       "Kolkata                         10\n",
       "Chandigarh                       9\n",
       "Mohali                           8\n",
       "Coimbatore                       6\n",
       "Indore                           4\n",
       "Greater Noida                    3\n",
       "Mangalore                        2\n",
       "Nagpur                           2\n",
       "Kanpur                           2\n",
       "Surat                            2\n",
       "Bhopal                           2\n",
       "Lucknow                          2\n",
       "Guntur                           1\n",
       "Trivandrum                       1\n",
       "Coch                             1\n",
       "Nasik                            1\n",
       "Kochi                            1\n",
       "Rajkot                           1\n",
       "Mysuru                           1\n",
       "Shimla                           1\n",
       "Panaji                           1\n",
       "United Arab Emirates (UAE)       1\n",
       "Ghaziabad                        1\n",
       "Jamshedpur                       1\n",
       "Amritsar                         1\n",
       "Kharagpur                        1\n",
       "Name: Locations, dtype: int64"
      ]
     },
     "execution_count": 12,
     "metadata": {},
     "output_type": "execute_result"
    }
   ],
   "source": [
    "df['Locations'].value_counts()"
   ]
  },
  {
   "cell_type": "code",
   "execution_count": 14,
   "metadata": {},
   "outputs": [
    {
     "data": {
      "text/plain": [
       "Class2    1469\n",
       "Class1     746\n",
       "Class4     196\n",
       "Class3      14\n",
       "Name: Cluster, dtype: int64"
      ]
     },
     "execution_count": 14,
     "metadata": {},
     "output_type": "execute_result"
    }
   ],
   "source": [
    "df['Cluster'].value_counts()"
   ]
  },
  {
   "cell_type": "code",
   "execution_count": 5,
   "metadata": {},
   "outputs": [],
   "source": [
    "from spellchecker import SpellChecker"
   ]
  },
  {
   "cell_type": "code",
   "execution_count": 6,
   "metadata": {},
   "outputs": [],
   "source": []
  },
  {
   "cell_type": "code",
   "execution_count": 7,
   "metadata": {},
   "outputs": [
    {
     "data": {
      "text/plain": [
       "Company                   0\n",
       "Designation               0\n",
       "Locations                 0\n",
       "Established Year          0\n",
       "Employees Count           0\n",
       "Link                      0\n",
       "HR_Name                   0\n",
       "Experience                0\n",
       "Followers                 0\n",
       "Skills1                  41\n",
       "Skills2                 222\n",
       "Skills3                 544\n",
       "Skills4                 882\n",
       "Skills5                1282\n",
       "Skills6                1716\n",
       "Skills7                2164\n",
       "Cluster                   0\n",
       "Experience Category       0\n",
       "dtype: int64"
      ]
     },
     "execution_count": 7,
     "metadata": {},
     "output_type": "execute_result"
    }
   ],
   "source": [
    "df.isnull().sum()"
   ]
  },
  {
   "cell_type": "code",
   "execution_count": 22,
   "metadata": {},
   "outputs": [],
   "source": [
    "df['Skills1'] = df['Skills1'].fillna(\"\")\n",
    "df['Skills2'] = df['Skills2'].fillna(\"\")\n",
    "df['Skills3'] = df['Skills3'].fillna(\"\")\n",
    "df['Skills4'] = df['Skills4'].fillna(\"\")\n",
    "df['Skills5'] = df['Skills5'].fillna(\"\")\n",
    "df['Skills6'] = df['Skills6'].fillna(\"\")\n",
    "df['Skills7'] = df['Skills7'].fillna(\"\")"
   ]
  },
  {
   "cell_type": "code",
   "execution_count": 23,
   "metadata": {
    "scrolled": true
   },
   "outputs": [
    {
     "data": {
      "text/plain": [
       "Company                0\n",
       "Designation            0\n",
       "Locations              0\n",
       "Established Year       0\n",
       "Employees Count        0\n",
       "Link                   0\n",
       "HR_Name                0\n",
       "Experience             0\n",
       "Followers              0\n",
       "Skills1                0\n",
       "Skills2                0\n",
       "Skills3                0\n",
       "Skills4                0\n",
       "Skills5                0\n",
       "Skills6                0\n",
       "Skills7                0\n",
       "Cluster                0\n",
       "Experience Category    0\n",
       "dtype: int64"
      ]
     },
     "execution_count": 23,
     "metadata": {},
     "output_type": "execute_result"
    }
   ],
   "source": [
    "df.isnull().sum()"
   ]
  },
  {
   "cell_type": "code",
   "execution_count": 24,
   "metadata": {},
   "outputs": [],
   "source": [
    "skills = set(df['Skills1'].str.lower())"
   ]
  },
  {
   "cell_type": "code",
   "execution_count": 25,
   "metadata": {},
   "outputs": [],
   "source": [
    "#skills = set(df['Skills1'].str.lower())\n",
    "skills.update(df['Skills2'].str.lower())\n",
    "skills.update(df['Skills3'].str.lower())\n",
    "skills.update(df['Skills4'].str.lower())\n",
    "skills.update(df['Skills5'].str.lower())\n",
    "skills.update(df['Skills6'].str.lower())\n",
    "skills.update(df['Skills7'].str.lower())"
   ]
  },
  {
   "cell_type": "code",
   "execution_count": 26,
   "metadata": {},
   "outputs": [],
   "source": [
    "# write skills to a text file\n",
    "with open('dictionary.txt', 'w') as f:\n",
    "    f.write('\\n'.join(skills))"
   ]
  },
  {
   "cell_type": "code",
   "execution_count": 27,
   "metadata": {},
   "outputs": [],
   "source": [
    "spell = SpellChecker()\n",
    "spell.word_frequency.load_text_file('dictionary.txt')"
   ]
  },
  {
   "cell_type": "code",
   "execution_count": 28,
   "metadata": {},
   "outputs": [],
   "source": [
    "# Load the custom dictionary\n",
    "with open('dictionary.txt') as f:\n",
    "    skills = f.read().splitlines()\n",
    "\n",
    "spell = SpellChecker(language=None, case_sensitive=False)\n",
    "spell.word_frequency.load_words(skills)"
   ]
  },
  {
   "cell_type": "code",
   "execution_count": 31,
   "metadata": {},
   "outputs": [
    {
     "name": "stdout",
     "output_type": "stream",
     "text": [
      "Searching for jobs related to: testing\n"
     ]
    }
   ],
   "source": [
    "# Test the spell checker\n",
    "user_input = \"testin\"\n",
    "corrected_input = spell.correction(user_input)\n",
    "print(f'Searching for jobs related to: {corrected_input}')"
   ]
  },
  {
   "cell_type": "code",
   "execution_count": null,
   "metadata": {},
   "outputs": [],
   "source": []
  }
 ],
 "metadata": {
  "kernelspec": {
   "display_name": "Python 3",
   "language": "python",
   "name": "python3"
  },
  "language_info": {
   "codemirror_mode": {
    "name": "ipython",
    "version": 3
   },
   "file_extension": ".py",
   "mimetype": "text/x-python",
   "name": "python",
   "nbconvert_exporter": "python",
   "pygments_lexer": "ipython3",
   "version": "3.8.5"
  }
 },
 "nbformat": 4,
 "nbformat_minor": 4
}
